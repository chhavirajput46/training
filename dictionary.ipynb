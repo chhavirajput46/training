{
 "cells": [
  {
   "cell_type": "code",
   "execution_count": null,
   "metadata": {},
   "outputs": [],
   "source": [
    "raju=[56,68,95,34,52]\n",
    "raju_dict={\n",
    "    'English':56,\n",
    "    'Hindi':68,\n",
    "    'Chemistry':34,\n",
    "    'Maths':42\n",
    "}\n",
    "print(raju_dict)"
   ]
  }
 ],
 "metadata": {
  "language_info": {
   "name": "python"
  },
  "orig_nbformat": 4
 },
 "nbformat": 4,
 "nbformat_minor": 2
}
