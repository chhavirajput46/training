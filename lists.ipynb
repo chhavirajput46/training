{
 "cells": [
  {
   "cell_type": "markdown",
   "metadata": {},
   "source": [
    "# list\n",
    "- indexed, ordered, mutable, allows duplicate elements, hetrogeneous, '[]', 'list()'\n",
    "# tuple\n",
    "- indexed, ordered, \"immutable\", allows duplicate elements, hetrogeneous, '()', 'tuple()'\n",
    "# set\n",
    "- unordered, mutable,does not allows duplicate elements, hetrogeneous, '{}', 'set()'\n",
    "# dictionary\n",
    "-  unordered, mutable, does not allows duplicate keys, hetrogeneous,key:value pairs ,{}, 'dict()'"
   ]
  },
  {
   "cell_type": "markdown",
   "metadata": {},
   "source": [
    "# list \n",
    "- creating\n",
    "- indexing and slicing\n",
    "- methods(11 methods)\n",
    "- list of comprehension\n"
   ]
  },
  {
   "cell_type": "code",
   "execution_count": 2,
   "metadata": {},
   "outputs": [],
   "source": [
    "x=[1,2,3,4,5]\n",
    "na=['john','paul']\n",
    "mix=[1,'hey',3.14,True]\n",
    "nested=[[1,2,3],[4,5,6]]\n",
    "mt=[]\n",
    "cloned=[1,2,3]*5\n",
    "words='this is sparta'.split()\n",
    "chars=list('alexender')"
   ]
  },
  {
   "cell_type": "code",
   "execution_count": 5,
   "metadata": {},
   "outputs": [
    {
     "name": "stdout",
     "output_type": "stream",
     "text": [
      "1\n",
      "5\n"
     ]
    }
   ],
   "source": [
    "print(x[0])\n",
    "print(x[-1])\n",
    "x[0]=100"
   ]
  },
  {
   "cell_type": "code",
   "execution_count": 6,
   "metadata": {},
   "outputs": [
    {
     "data": {
      "text/plain": [
       "['a', 'l', 'e', 'x', 'e']"
      ]
     },
     "execution_count": 6,
     "metadata": {},
     "output_type": "execute_result"
    }
   ],
   "source": [
    "chars[:5]"
   ]
  },
  {
   "cell_type": "code",
   "execution_count": 7,
   "metadata": {},
   "outputs": [
    {
     "data": {
      "text/plain": [
       "['r', 'e', 'd', 'n', 'e', 'x', 'e', 'l', 'a']"
      ]
     },
     "execution_count": 7,
     "metadata": {},
     "output_type": "execute_result"
    }
   ],
   "source": [
    "chars[::-1]"
   ]
  },
  {
   "cell_type": "markdown",
   "metadata": {},
   "source": [
    "- adding\n",
    "  - append()_adds an element to the end of the list\n",
    "  - extend()_adds all elemnt\n",
    "  - insert()\n",
    "- removing\n",
    "    - remove()\n",
    "    - pop\n",
    "    - clear()\n",
    "  \n",
    "- utility methods\n",
    "  - count()\n",
    "  - index()\n",
    "  - sort()\n",
    "  - copy()\n",
    "  - reverse()"
   ]
  },
  {
   "cell_type": "code",
   "execution_count": 8,
   "metadata": {},
   "outputs": [],
   "source": [
    "#functions can be directly acceced\n",
    "#methods are linxed to a variable\n",
    "x.append(7)\n",
    "print(x)\n"
   ]
  },
  {
   "cell_type": "code",
   "execution_count": 10,
   "metadata": {},
   "outputs": [
    {
     "name": "stdout",
     "output_type": "stream",
     "text": [
      "[100, 2, 3, 4, 5, 7, 'john', 'paul']\n"
     ]
    }
   ],
   "source": [
    "x.extend(na)\n",
    "print(x)"
   ]
  },
  {
   "cell_type": "code",
   "execution_count": 11,
   "metadata": {},
   "outputs": [
    {
     "name": "stdout",
     "output_type": "stream",
     "text": [
      "[100, 2, 3, 4, 5, 100, 500, 7, 'john', 'paul']\n"
     ]
    }
   ],
   "source": [
    "x.insert(5,100)\n",
    "x.insert(6,500)\n",
    "print(x)"
   ]
  },
  {
   "cell_type": "markdown",
   "metadata": {},
   "source": [
    "wap to take a input of 10 values from user and insert in the list"
   ]
  },
  {
   "cell_type": "code",
   "execution_count": 13,
   "metadata": {},
   "outputs": [
    {
     "name": "stdout",
     "output_type": "stream",
     "text": [
      "['a', 'e', '4', '5', '6', 'g', '5', 't', 'r', 'e']\n"
     ]
    }
   ],
   "source": [
    "l=[]\n",
    "for x in range(0,10):\n",
    "    a=input('enter a value')\n",
    "    l.append(a)\n",
    "print(l)"
   ]
  },
  {
   "cell_type": "code",
   "execution_count": 16,
   "metadata": {},
   "outputs": [
    {
     "name": "stdout",
     "output_type": "stream",
     "text": [
      "['a', '4', '5', '6', 'g', '5', 't', 'r']\n"
     ]
    }
   ],
   "source": [
    "if 'e' in l:\n",
    "    l.remove('e')\n",
    "print(l)"
   ]
  },
  {
   "cell_type": "code",
   "execution_count": 17,
   "metadata": {},
   "outputs": [
    {
     "name": "stdout",
     "output_type": "stream",
     "text": [
      "e not found\n"
     ]
    }
   ],
   "source": [
    "l.remove('e') if 'e' in l else print('e not found')"
   ]
  },
  {
   "cell_type": "code",
   "execution_count": 20,
   "metadata": {},
   "outputs": [
    {
     "name": "stdout",
     "output_type": "stream",
     "text": [
      "4\n",
      "3\n"
     ]
    }
   ],
   "source": [
    "a=[1,2,3,4]\n",
    "print(a.pop())\n",
    "print(a.pop(2))"
   ]
  },
  {
   "cell_type": "code",
   "execution_count": 21,
   "metadata": {},
   "outputs": [],
   "source": [
    "l.clear()#list will be empty"
   ]
  },
  {
   "cell_type": "code",
   "execution_count": 24,
   "metadata": {},
   "outputs": [],
   "source": [
    "del a#remove list from memory"
   ]
  },
  {
   "cell_type": "code",
   "execution_count": 25,
   "metadata": {},
   "outputs": [
    {
     "data": {
      "text/plain": [
       "1"
      ]
     },
     "execution_count": 25,
     "metadata": {},
     "output_type": "execute_result"
    }
   ],
   "source": [
    "a=[1,2,3,2,1,4,1,1,1,1]\n",
    "a.count(3)"
   ]
  },
  {
   "cell_type": "code",
   "execution_count": 27,
   "metadata": {},
   "outputs": [
    {
     "name": "stdout",
     "output_type": "stream",
     "text": [
      "[1, 1, 1, 1, 1, 1, 2, 2, 3, 4]\n"
     ]
    }
   ],
   "source": [
    "a.sort()\n",
    "print(a)"
   ]
  },
  {
   "cell_type": "code",
   "execution_count": 32,
   "metadata": {},
   "outputs": [
    {
     "name": "stdout",
     "output_type": "stream",
     "text": [
      "[0, 1, 1, 2, 3, 5, 8, 13, 21, 34]\n"
     ]
    }
   ],
   "source": [
    "i=[]\n",
    "f=0\n",
    "s=1\n",
    "su=0\n",
    "i.append(f)\n",
    "i.append(s)\n",
    "for j in range(8):\n",
    "    su=f+s\n",
    "    i.append(su)\n",
    "    f=s\n",
    "    s=su\n",
    "print(i)\n",
    "\n"
   ]
  },
  {
   "cell_type": "code",
   "execution_count": 35,
   "metadata": {},
   "outputs": [
    {
     "name": "stdout",
     "output_type": "stream",
     "text": [
      "[0, 1, 1, 2, 3, 5, 8, 13, 21, 34]\n"
     ]
    }
   ],
   "source": [
    "b=[0,1]\n",
    "for i in range(8):\n",
    "    b.append(b[-2]+b[-1])\n",
    "print(b)"
   ]
  },
  {
   "cell_type": "code",
   "execution_count": 1,
   "metadata": {},
   "outputs": [
    {
     "name": "stdout",
     "output_type": "stream",
     "text": [
      "[1, 2, 3, 4, 5]\n",
      "[1, 4, 9, 16, 25]\n"
     ]
    }
   ],
   "source": [
    "x=[1,2,3,4,5]\n",
    "x2=[]\n",
    "for i in x:\n",
    "    s=i**2\n",
    "    x2.append(s)\n",
    "print(x)\n",
    "print(x2)"
   ]
  },
  {
   "cell_type": "code",
   "execution_count": 3,
   "metadata": {},
   "outputs": [
    {
     "name": "stdout",
     "output_type": "stream",
     "text": [
      "['peter', 'bruce', 'clark']\n"
     ]
    }
   ],
   "source": [
    "names=['peter parker','bruce wayne','clark kent']\n",
    "fnames=[]\n",
    "for nm in names:\n",
    "    fnames.append(nm.split()[0])\n",
    "print(fnames)"
   ]
  },
  {
   "cell_type": "markdown",
   "metadata": {},
   "source": [
    "newlist=[expression for item in iterable if condition==True]"
   ]
  },
  {
   "cell_type": "code",
   "execution_count": 4,
   "metadata": {},
   "outputs": [
    {
     "name": "stdout",
     "output_type": "stream",
     "text": [
      "[1, 4, 9, 16, 25]\n"
     ]
    }
   ],
   "source": [
    "x2=[i**2 for i in x]\n",
    "print(x2)"
   ]
  },
  {
   "cell_type": "code",
   "execution_count": 5,
   "metadata": {},
   "outputs": [
    {
     "name": "stdout",
     "output_type": "stream",
     "text": [
      "['parker', 'wayne', 'kent']\n"
     ]
    }
   ],
   "source": [
    "lnames=[nm.split()[-1] for nm in names]\n",
    "print(lnames)"
   ]
  },
  {
   "cell_type": "code",
   "execution_count": 8,
   "metadata": {},
   "outputs": [
    {
     "name": "stdout",
     "output_type": "stream",
     "text": [
      "[2, 4, 6, 8, 10, 12]\n"
     ]
    }
   ],
   "source": [
    "x=[1,2,3,4,5,6,7,8,9,10,12]\n",
    "xeven=[i for i in x if i%2==0]\n",
    "print(xeven)"
   ]
  },
  {
   "cell_type": "code",
   "execution_count": 10,
   "metadata": {},
   "outputs": [
    {
     "name": "stdout",
     "output_type": "stream",
     "text": [
      "[1, 2, 3, 4, 5, 6, 10]\n"
     ]
    }
   ],
   "source": [
    "#filter\n",
    "x=['1','2','3','4','5','6','','10']\n",
    "x_clean=[int(i) for i in x if i.isnumeric()]\n",
    "print(x_clean)"
   ]
  },
  {
   "cell_type": "code",
   "execution_count": 11,
   "metadata": {},
   "outputs": [
    {
     "name": "stdout",
     "output_type": "stream",
     "text": [
      "['1.jpg', '2.jpg', '5.jpg']\n",
      "['10.png']\n"
     ]
    }
   ],
   "source": [
    "files=['1.jpg','2.jpg','4.tif','5.jpg','10.png']\n",
    "jpg_files=[file for file in files if file.endswith('.jpg')]\n",
    "png_files=[file for file in files if file.endswith('.png')]\n",
    "print(jpg_files)\n",
    "print(png_files)"
   ]
  },
  {
   "cell_type": "code",
   "execution_count": 13,
   "metadata": {},
   "outputs": [
    {
     "name": "stdout",
     "output_type": "stream",
     "text": [
      "['1.jpg', '2.jpg', '5.jpg']\n"
     ]
    }
   ],
   "source": [
    "jpg_files=[]\n",
    "for file in files:\n",
    "    if file.endswith('.jpg'):\n",
    "        jpg_files.append(file)\n",
    "print(jpg_files)\n"
   ]
  },
  {
   "cell_type": "code",
   "execution_count": null,
   "metadata": {},
   "outputs": [],
   "source": []
  }
 ],
 "metadata": {
  "kernelspec": {
   "display_name": "base",
   "language": "python",
   "name": "python3"
  },
  "language_info": {
   "codemirror_mode": {
    "name": "ipython",
    "version": 3
   },
   "file_extension": ".py",
   "mimetype": "text/x-python",
   "name": "python",
   "nbconvert_exporter": "python",
   "pygments_lexer": "ipython3",
   "version": "3.10.10"
  },
  "orig_nbformat": 4
 },
 "nbformat": 4,
 "nbformat_minor": 2
}
