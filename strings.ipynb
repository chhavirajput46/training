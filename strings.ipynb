{
 "cells": [
  {
   "cell_type": "markdown",
   "metadata": {},
   "source": [
    "- creation\n",
    "- indexing and slicing\n",
    "- methods"
   ]
  },
  {
   "cell_type": "code",
   "execution_count": 3,
   "metadata": {},
   "outputs": [
    {
     "name": "stdout",
     "output_type": "stream",
     "text": [
      "hahahahahahahahahaha\n",
      "100 <class 'str'>\n"
     ]
    }
   ],
   "source": [
    "s=\"hello\"\n",
    "s1='world'\n",
    "msg='''this is a message \n",
    "with multiple lines'''#also used in multi line comments\n",
    "#strin duplication\n",
    "w='ha'*10\n",
    "print(w)\n",
    "a=100\n",
    "b=str(a)\n",
    "print(b, type(b))\n",
    "\n"
   ]
  },
  {
   "cell_type": "code",
   "execution_count": 4,
   "metadata": {},
   "outputs": [
    {
     "name": "stdout",
     "output_type": "stream",
     "text": [
      "from turtle import *\n",
      "speed('fastest')\n",
      "pensize(2)\n",
      "bgcolor(\"black\")\n",
      "pencolor(\"white\")\n",
      "side=6\n",
      "for i in range(side):\n",
      "    fd(200)\n",
      "    \n",
      "    for i in range(side):\n",
      "        fd(100)\n",
      "        lt(360/side)\n",
      "        \n",
      "        \n",
      "        for i in range(side):\n",
      "            fd(50)\n",
      "            lt(360/side)\n",
      "    lt(360/side)\n",
      "    \n",
      "\n",
      "mainloop()\n"
     ]
    }
   ],
   "source": [
    "data=open('t5.py').read()#only for text files#whenever we are reading data fron file it is in string form\n",
    "print(data)"
   ]
  },
  {
   "cell_type": "code",
   "execution_count": 5,
   "metadata": {},
   "outputs": [
    {
     "name": "stdout",
     "output_type": "stream",
     "text": [
      "h\n",
      "e\n",
      "l\n",
      "l\n",
      "o\n"
     ]
    }
   ],
   "source": [
    "print(s[0])\n",
    "print(s[1])\n",
    "print(s[2])\n",
    "print(s[3])\n",
    "print(s[4])"
   ]
  },
  {
   "cell_type": "markdown",
   "metadata": {},
   "source": [
    "strings have two type of indexing\n",
    "-positive 0...\n",
    "-negative -1..."
   ]
  },
  {
   "cell_type": "code",
   "execution_count": 11,
   "metadata": {},
   "outputs": [
    {
     "data": {
      "text/plain": [
       "'lliom'"
      ]
     },
     "execution_count": 11,
     "metadata": {},
     "output_type": "execute_result"
    }
   ],
   "source": [
    "\n",
    "name='williom shakespear' #slicing-extracting sub string from a string\n",
    "name[8:-5]\n",
    "name[0:4]\n",
    "name[2:7]"
   ]
  },
  {
   "cell_type": "code",
   "execution_count": 13,
   "metadata": {},
   "outputs": [
    {
     "name": "stdout",
     "output_type": "stream",
     "text": [
      "will\n",
      "shakespear\n",
      "williom shakespear\n",
      "wlimsaepa\n",
      "raepsekahs moilliw\n"
     ]
    }
   ],
   "source": [
    "a=name[:4]\n",
    "print(a)\n",
    "b=name[8:]\n",
    "print(b)\n",
    "c=name[:]\n",
    "print(c)\n",
    "f=name[::2]\n",
    "print(f)\n",
    "e=name[::-1]\n",
    "print(e)"
   ]
  },
  {
   "cell_type": "code",
   "execution_count": 14,
   "metadata": {},
   "outputs": [
    {
     "data": {
      "text/plain": [
       "18"
      ]
     },
     "execution_count": 14,
     "metadata": {},
     "output_type": "execute_result"
    }
   ],
   "source": [
    "#two string can never be multiplied but can be added using +\n",
    "len(name)#length"
   ]
  },
  {
   "cell_type": "markdown",
   "metadata": {},
   "source": [
    "method\n",
    "- utility method\n",
    "  - count\n",
    "  - split\n",
    "  - replace\n",
    "  - join\n",
    "  - strip\n",
    "  - find\n",
    "- formatting method\n",
    "  - capitalize\n",
    "  - title\n",
    "  - upper\n",
    "  - lower\n",
    "  - swapcase\n",
    "  - casefold\n",
    "- validation method\n",
    "  - isalum\n",
    "  - isalpha\n",
    "  - isdigit\n",
    "  - islower\n",
    "  - isupper\n",
    "  - istitle\n",
    "  - isspace\n",
    "  \n",
    " function-accessed directly"
   ]
  },
  {
   "cell_type": "code",
   "execution_count": 15,
   "metadata": {},
   "outputs": [
    {
     "name": "stdout",
     "output_type": "stream",
     "text": [
      "9\n",
      "2\n",
      "1\n"
     ]
    }
   ],
   "source": [
    "msg='''this is a story about a kingdom of \n",
    "south india lead by the hyasala dynasty kings.'''\n",
    "print(msg.count('a'))\n",
    "print(msg.count('out'))\n",
    "print(msg.count('the'))\n"
   ]
  },
  {
   "cell_type": "code",
   "execution_count": 16,
   "metadata": {},
   "outputs": [
    {
     "name": "stdout",
     "output_type": "stream",
     "text": [
      "24\n"
     ]
    }
   ],
   "source": [
    "total_vowels=msg.count('a')+msg.count('e')+msg.count('i')+msg.count('o')+msg.count('u')\n",
    "print(total_vowels)"
   ]
  },
  {
   "cell_type": "code",
   "execution_count": 29,
   "metadata": {},
   "outputs": [
    {
     "name": "stdout",
     "output_type": "stream",
     "text": [
      "24\n"
     ]
    }
   ],
   "source": [
    "tvs= 0\n",
    "for c in 'aeiou':\n",
    "    tvs=tvs+msg.count(c)\n",
    "print(tvs)"
   ]
  },
  {
   "cell_type": "code",
   "execution_count": 24,
   "metadata": {},
   "outputs": [
    {
     "name": "stdout",
     "output_type": "stream",
     "text": [
      "a\n",
      "e\n",
      "i\n",
      "o\n",
      "u\n"
     ]
    }
   ],
   "source": [
    "for c in 'aeiou':\n",
    "    print(c)"
   ]
  },
  {
   "cell_type": "code",
   "execution_count": 31,
   "metadata": {},
   "outputs": [
    {
     "data": {
      "text/plain": [
       "37"
      ]
     },
     "execution_count": 31,
     "metadata": {},
     "output_type": "execute_result"
    }
   ],
   "source": [
    "msg.find('story')#index of first letter\n",
    "msg.find('out')\n",
    "msg.find('out',19)"
   ]
  },
  {
   "cell_type": "code",
   "execution_count": 32,
   "metadata": {},
   "outputs": [
    {
     "data": {
      "text/plain": [
       "37"
      ]
     },
     "execution_count": 32,
     "metadata": {},
     "output_type": "execute_result"
    }
   ],
   "source": [
    "msg.rfind('out')#from right"
   ]
  },
  {
   "cell_type": "code",
   "execution_count": 48,
   "metadata": {},
   "outputs": [
    {
     "name": "stdout",
     "output_type": "stream",
     "text": [
      "this is a story about a kingdom of \n",
      "south india lead by the hyasala dynasty kings.\n",
      "ths s  stry bt  kngdm f \n",
      "sth nd ld by th hysl dynsty kngs.\n"
     ]
    }
   ],
   "source": [
    "msg.replace('a','b')\n",
    "msg.replace('out','in')\n",
    "msg.replace('a','')\n",
    "m_copy=msg\n",
    "for c in 'aeiou':\n",
    "    m_copy=m_copy.replace(c,'')\n",
    "print(msg)\n",
    "print(m_copy)\n",
    "\n"
   ]
  },
  {
   "cell_type": "code",
   "execution_count": 2,
   "metadata": {},
   "outputs": [
    {
     "data": {
      "text/plain": [
       "['this', 'is', 'a', 'message']"
      ]
     },
     "execution_count": 2,
     "metadata": {},
     "output_type": "execute_result"
    }
   ],
   "source": [
    "data='this is a message'\n",
    "data.split()"
   ]
  },
  {
   "cell_type": "code",
   "execution_count": 4,
   "metadata": {},
   "outputs": [
    {
     "data": {
      "text/plain": [
       "['life before death',\n",
       " '\\nstrength before weakness',\n",
       " '\\njourny before destination']"
      ]
     },
     "execution_count": 4,
     "metadata": {},
     "output_type": "execute_result"
    }
   ],
   "source": [
    "quote='''life before death,\n",
    "strength before weakness,\n",
    "journy before destination'''\n",
    "quote.split(',')"
   ]
  },
  {
   "cell_type": "code",
   "execution_count": 6,
   "metadata": {},
   "outputs": [
    {
     "data": {
      "text/plain": [
       "['life before death,',\n",
       " 'strength before weakness,',\n",
       " 'journy before destination']"
      ]
     },
     "execution_count": 6,
     "metadata": {},
     "output_type": "execute_result"
    }
   ],
   "source": [
    "quote.splitlines()#string breaks into list"
   ]
  },
  {
   "cell_type": "code",
   "execution_count": 8,
   "metadata": {},
   "outputs": [
    {
     "data": {
      "text/plain": [
       "'hi_there_how_are_you'"
      ]
     },
     "execution_count": 8,
     "metadata": {},
     "output_type": "execute_result"
    }
   ],
   "source": [
    "msg=['hi','there','how','are','you']\n",
    "'.'.join(msg)\n",
    "'_'.join(msg)#join the list to form string"
   ]
  },
  {
   "cell_type": "code",
   "execution_count": 14,
   "metadata": {},
   "outputs": [
    {
     "name": "stdout",
     "output_type": "stream",
     "text": [
      "12\n",
      "john cena\n",
      "9\n"
     ]
    }
   ],
   "source": [
    "x=' john cena  '\n",
    "print(len(x))\n",
    "x=x.strip()#remove all spaces from starting and ending\n",
    "print(x)\n",
    "print(len(x))"
   ]
  },
  {
   "cell_type": "code",
   "execution_count": 17,
   "metadata": {},
   "outputs": [
    {
     "name": "stdout",
     "output_type": "stream",
     "text": [
      "Help on built-in function eval in module builtins:\n",
      "\n",
      "eval(source, globals=None, locals=None, /)\n",
      "    Evaluate the given source in the context of globals and locals.\n",
      "    \n",
      "    The source may be a string representing a Python expression\n",
      "    or a code object as returned by compile().\n",
      "    The globals must be a dictionary and locals can be any mapping,\n",
      "    defaulting to the current globals and locals.\n",
      "    If only globals is given, locals defaults to it.\n",
      "\n"
     ]
    },
    {
     "name": "stdout",
     "output_type": "stream",
     "text": [
      "\u001b[1;31mDocstring:\u001b[0m\n",
      "print(value, ..., sep=' ', end='\\n', file=sys.stdout, flush=False)\n",
      "\n",
      "Prints the values to a stream, or to sys.stdout by default.\n",
      "Optional keyword arguments:\n",
      "file:  a file-like object (stream); defaults to the current sys.stdout.\n",
      "sep:   string inserted between values, default a space.\n",
      "end:   string appended after the last value, default a newline.\n",
      "flush: whether to forcibly flush the stream.\n",
      "\u001b[1;31mType:\u001b[0m      builtin_function_or_method"
     ]
    }
   ],
   "source": [
    "x.casefold?#for notebook\n",
    "print?\n",
    "#or\n",
    "help(eval)#both used for same purpose"
   ]
  },
  {
   "cell_type": "code",
   "execution_count": 21,
   "metadata": {},
   "outputs": [
    {
     "name": "stdout",
     "output_type": "stream",
     "text": [
      "CHHAVI RAJPUT\n",
      "chhavi rajput\n",
      "Chhavi rajput\n",
      "Chhavi Rajput\n",
      "CHHAVI RAJPUT\n",
      "chhavi rajput\n"
     ]
    }
   ],
   "source": [
    "name='chhavi rajput'\n",
    "print(name.upper())\n",
    "print(name.lower())\n",
    "print(name.capitalize())\n",
    "print(name.title())\n",
    "print(name.swapcase())\n",
    "print(name.casefold())"
   ]
  },
  {
   "cell_type": "code",
   "execution_count": 25,
   "metadata": {},
   "outputs": [
    {
     "name": "stdout",
     "output_type": "stream",
     "text": [
      "False\n",
      "True\n",
      "False\n",
      "False\n",
      "False\n",
      "False\n",
      "True\n"
     ]
    }
   ],
   "source": [
    "x='xdt g678'\n",
    "print(x.isupper())\n",
    "print(x.islower())\n",
    "print(x.isnumeric())\n",
    "print(x.isalpha())\n",
    "print(x.isalnum())\n",
    "print(x.isspace())\n",
    "print(x.isprintable())\n"
   ]
  },
  {
   "cell_type": "markdown",
   "metadata": {},
   "source": [
    "# wap to take a string from user then print only the words that are even index"
   ]
  },
  {
   "cell_type": "code",
   "execution_count": 33,
   "metadata": {},
   "outputs": [
    {
     "data": {
      "text/plain": [
       "'chhavi'"
      ]
     },
     "execution_count": 33,
     "metadata": {},
     "output_type": "execute_result"
    }
   ],
   "source": [
    "\" \".join(input('enter something').split()[::2])\n",
    "        "
   ]
  },
  {
   "cell_type": "markdown",
   "metadata": {},
   "source": [
    "wap to take string from user then display the size of each word and also display the word with maximum size"
   ]
  },
  {
   "cell_type": "code",
   "execution_count": 51,
   "metadata": {},
   "outputs": [
    {
     "name": "stdout",
     "output_type": "stream",
     "text": [
      "chhavi 6\n",
      "raj 3\n",
      "6\n",
      "chhavi\n"
     ]
    }
   ],
   "source": [
    "y=input('enter a string')\n",
    "z=y.split(\" \")\n",
    "max=0\n",
    "for i in z:\n",
    "    print(i, len(i))\n",
    "    n=len(i)\n",
    "    if n>max:\n",
    "        max=n\n",
    "        a=i\n",
    "print(max)\n",
    "print(a)"
   ]
  },
  {
   "cell_type": "code",
   "execution_count": 52,
   "metadata": {},
   "outputs": [
    {
     "name": "stdout",
     "output_type": "stream",
     "text": [
      "chhavi         6\n",
      "raj            3\n",
      "chhavi(6)is largest\n"
     ]
    }
   ],
   "source": [
    "#or\n",
    "c=input('enter something')\n",
    "lw=''\n",
    "lwl=0\n",
    "for word in c.split():\n",
    "    if len(word)>lwl:\n",
    "        lw=word\n",
    "        lwl=len(word)\n",
    "    print(f'{word:15}{len(word)}')\n",
    "print(f'{lw}({lwl})is largest')"
   ]
  },
  {
   "cell_type": "code",
   "execution_count": null,
   "metadata": {},
   "outputs": [],
   "source": []
  }
 ],
 "metadata": {
  "kernelspec": {
   "display_name": "base",
   "language": "python",
   "name": "python3"
  },
  "language_info": {
   "codemirror_mode": {
    "name": "ipython",
    "version": 3
   },
   "file_extension": ".py",
   "mimetype": "text/x-python",
   "name": "python",
   "nbconvert_exporter": "python",
   "pygments_lexer": "ipython3",
   "version": "3.10.10"
  },
  "orig_nbformat": 4
 },
 "nbformat": 4,
 "nbformat_minor": 2
}
