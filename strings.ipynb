{
 "cells": [
  {
   "cell_type": "markdown",
   "metadata": {},
   "source": [
    "- creation\n",
    "- indexing and slicing\n",
    "- methods"
   ]
  },
  {
   "cell_type": "code",
   "execution_count": 3,
   "metadata": {},
   "outputs": [
    {
     "name": "stdout",
     "output_type": "stream",
     "text": [
      "hahahahahahahahahaha\n",
      "100 <class 'str'>\n"
     ]
    }
   ],
   "source": [
    "s=\"hello\"\n",
    "s1='world'\n",
    "msg='''this is a message\n",
    "with multiple lines'''#also used in multi line comments\n",
    "#strin duplication\n",
    "w='ha'*10\n",
    "print(w)\n",
    "a=100\n",
    "b=str(a)\n",
    "print(b, type(b))\n",
    "\n"
   ]
  },
  {
   "cell_type": "code",
   "execution_count": 4,
   "metadata": {},
   "outputs": [
    {
     "name": "stdout",
     "output_type": "stream",
     "text": [
      "from turtle import *\n",
      "speed('fastest')\n",
      "pensize(2)\n",
      "bgcolor(\"black\")\n",
      "pencolor(\"white\")\n",
      "side=6\n",
      "for i in range(side):\n",
      "    fd(200)\n",
      "    \n",
      "    for i in range(side):\n",
      "        fd(100)\n",
      "        lt(360/side)\n",
      "        \n",
      "        \n",
      "        for i in range(side):\n",
      "            fd(50)\n",
      "            lt(360/side)\n",
      "    lt(360/side)\n",
      "    \n",
      "\n",
      "mainloop()\n"
     ]
    }
   ],
   "source": [
    "data=open('t5.py').read()#only for text files#whenever we are reading data fron file it is in string form\n",
    "print(data)"
   ]
  },
  {
   "cell_type": "code",
   "execution_count": 5,
   "metadata": {},
   "outputs": [
    {
     "name": "stdout",
     "output_type": "stream",
     "text": [
      "h\n",
      "e\n",
      "l\n",
      "l\n",
      "o\n"
     ]
    }
   ],
   "source": [
    "print(s[0])\n",
    "print(s[1])\n",
    "print(s[2])\n",
    "print(s[3])\n",
    "print(s[4])"
   ]
  },
  {
   "cell_type": "markdown",
   "metadata": {},
   "source": [
    "strings have two type of indexing\n",
    "-positive 0...\n",
    "-negative -1..."
   ]
  },
  {
   "cell_type": "code",
   "execution_count": 11,
   "metadata": {},
   "outputs": [
    {
     "data": {
      "text/plain": [
       "'lliom'"
      ]
     },
     "execution_count": 11,
     "metadata": {},
     "output_type": "execute_result"
    }
   ],
   "source": [
    "\n",
    "name='williom shakespear' #slicing-extracting sub string from a string\n",
    "name[8:-5]\n",
    "name[0:4]\n",
    "name[2:7]"
   ]
  },
  {
   "cell_type": "code",
   "execution_count": 13,
   "metadata": {},
   "outputs": [
    {
     "name": "stdout",
     "output_type": "stream",
     "text": [
      "will\n",
      "shakespear\n",
      "williom shakespear\n",
      "wlimsaepa\n",
      "raepsekahs moilliw\n"
     ]
    }
   ],
   "source": [
    "a=name[:4]\n",
    "print(a)\n",
    "b=name[8:]\n",
    "print(b)\n",
    "c=name[:]\n",
    "print(c)\n",
    "f=name[::2]\n",
    "print(f)\n",
    "e=name[::-1]\n",
    "print(e)"
   ]
  },
  {
   "cell_type": "code",
   "execution_count": 14,
   "metadata": {},
   "outputs": [
    {
     "data": {
      "text/plain": [
       "18"
      ]
     },
     "execution_count": 14,
     "metadata": {},
     "output_type": "execute_result"
    }
   ],
   "source": [
    "#two string can never be multiplied but can be added using +\n",
    "len(name)#length"
   ]
  },
  {
   "cell_type": "markdown",
   "metadata": {},
   "source": [
    "method\n",
    "- utility method\n",
    "  - count\n",
    "  - split\n",
    "  - replace\n",
    "  - join\n",
    "  - strip\n",
    "  - find\n",
    "- formatting method\n",
    "  - capitalize\n",
    "  - title\n",
    "  - upper\n",
    "  - lower\n",
    "  - swapcase\n",
    "  - casefold\n",
    "- validation method\n",
    "  - isalum\n",
    "  - isalpha\n",
    "  - isdigit\n",
    "  - islower\n",
    "  - isupper\n",
    "  - istitle\n",
    "  - isspace\n",
    "  \n",
    " function-accessed directly"
   ]
  },
  {
   "cell_type": "code",
   "execution_count": 15,
   "metadata": {},
   "outputs": [
    {
     "name": "stdout",
     "output_type": "stream",
     "text": [
      "9\n",
      "2\n",
      "1\n"
     ]
    }
   ],
   "source": [
    "msg='''this is a story about a kingdom of \n",
    "south india lead by the hyasala dynasty kings.'''\n",
    "print(msg.count('a'))\n",
    "print(msg.count('out'))\n",
    "print(msg.count('the'))\n"
   ]
  },
  {
   "cell_type": "code",
   "execution_count": 16,
   "metadata": {},
   "outputs": [
    {
     "name": "stdout",
     "output_type": "stream",
     "text": [
      "24\n"
     ]
    }
   ],
   "source": [
    "total_vowels=msg.count('a')+msg.count('e')+msg.count('i')+msg.count('o')+msg.count('u')\n",
    "print(total_vowels)"
   ]
  },
  {
   "cell_type": "code",
   "execution_count": 29,
   "metadata": {},
   "outputs": [
    {
     "name": "stdout",
     "output_type": "stream",
     "text": [
      "24\n"
     ]
    }
   ],
   "source": [
    "tvs= 0\n",
    "for c in 'aeiou':\n",
    "    tvs=tvs+msg.count(c)\n",
    "print(tvs)"
   ]
  },
  {
   "cell_type": "code",
   "execution_count": 24,
   "metadata": {},
   "outputs": [
    {
     "name": "stdout",
     "output_type": "stream",
     "text": [
      "a\n",
      "e\n",
      "i\n",
      "o\n",
      "u\n"
     ]
    }
   ],
   "source": [
    "for c in 'aeiou':\n",
    "    print(c)"
   ]
  },
  {
   "cell_type": "code",
   "execution_count": 31,
   "metadata": {},
   "outputs": [
    {
     "data": {
      "text/plain": [
       "37"
      ]
     },
     "execution_count": 31,
     "metadata": {},
     "output_type": "execute_result"
    }
   ],
   "source": [
    "msg.find('story')#index of first letter\n",
    "msg.find('out')\n",
    "msg.find('out',19)"
   ]
  },
  {
   "cell_type": "code",
   "execution_count": 32,
   "metadata": {},
   "outputs": [
    {
     "data": {
      "text/plain": [
       "37"
      ]
     },
     "execution_count": 32,
     "metadata": {},
     "output_type": "execute_result"
    }
   ],
   "source": [
    "msg.rfind('out')#from right"
   ]
  },
  {
   "cell_type": "code",
   "execution_count": 48,
   "metadata": {},
   "outputs": [
    {
     "name": "stdout",
     "output_type": "stream",
     "text": [
      "this is a story about a kingdom of \n",
      "south india lead by the hyasala dynasty kings.\n",
      "ths s  stry bt  kngdm f \n",
      "sth nd ld by th hysl dynsty kngs.\n"
     ]
    }
   ],
   "source": [
    "msg.replace('a','b')\n",
    "msg.replace('out','in')\n",
    "msg.replace('a','')\n",
    "m_copy=msg\n",
    "for c in 'aeiou':\n",
    "    m_copy=m_copy.replace(c,'')\n",
    "print(msg)\n",
    "print(m_copy)\n",
    "\n"
   ]
  },
  {
   "cell_type": "code",
   "execution_count": null,
   "metadata": {},
   "outputs": [],
   "source": []
  },
  {
   "cell_type": "code",
   "execution_count": null,
   "metadata": {},
   "outputs": [],
   "source": []
  }
 ],
 "metadata": {
  "kernelspec": {
   "display_name": "base",
   "language": "python",
   "name": "python3"
  },
  "language_info": {
   "codemirror_mode": {
    "name": "ipython",
    "version": 3
   },
   "file_extension": ".py",
   "mimetype": "text/x-python",
   "name": "python",
   "nbconvert_exporter": "python",
   "pygments_lexer": "ipython3",
   "version": "3.10.10"
  },
  "orig_nbformat": 4
 },
 "nbformat": 4,
 "nbformat_minor": 2
}
