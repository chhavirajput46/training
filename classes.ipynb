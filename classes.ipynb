{
 "cells": [
  {
   "cell_type": "code",
   "execution_count": 4,
   "metadata": {},
   "outputs": [],
   "source": [
    "class cat:\n",
    "   # pass#skip\n",
    "   def __init__(self):\n",
    "     print(\"the class constructor\")"
   ]
  },
  {
   "cell_type": "code",
   "execution_count": 6,
   "metadata": {},
   "outputs": [
    {
     "name": "stdout",
     "output_type": "stream",
     "text": [
      "the class constructor\n",
      "<__main__.cat object at 0x000002BFBA269DE0>\n"
     ]
    },
    {
     "data": {
      "text/plain": [
       "__main__.cat"
      ]
     },
     "execution_count": 6,
     "metadata": {},
     "output_type": "execute_result"
    }
   ],
   "source": [
    "c1=cat()\n",
    "print(c1)\n",
    "type(c1)"
   ]
  },
  {
   "cell_type": "code",
   "execution_count": 19,
   "metadata": {},
   "outputs": [],
   "source": [
    "class student:\n",
    "    def __init__(self,name,klass,rollno,marks,stream='bio',):#refrence of curent class#just like this keyword\n",
    "        self.name=name\n",
    "        self.klass=klass\n",
    "        self.rollno=stream\n",
    "        self.marks={}#property of class\n",
    "    def think(self,object):\n",
    "        print(f\"i am thinking about{object}\")\n",
    "    def setmarks(self,subject, value):\n",
    "        self.marks[subject]=value"
   ]
  },
  {
   "cell_type": "code",
   "execution_count": 24,
   "metadata": {},
   "outputs": [],
   "source": [
    "aditi=student(\"aditi\",12,'22',\"maths\")\n",
    "anmol=student(\"anmol\",11,'23',\"bio\")\n",
    "\n",
    "anmol.setmarks('hindi',90)\n",
    "anmol.setmarks('english',90)\n",
    "anmol.setmarks('maths',90)\n",
    "aditi.setmarks('hindi',90)\n",
    "aditi.setmarks('english',90)\n",
    "aditi.setmarks('maths',90)\n",
    "aditi.setmarks('science',90)"
   ]
  },
  {
   "cell_type": "code",
   "execution_count": 25,
   "metadata": {},
   "outputs": [
    {
     "name": "stdout",
     "output_type": "stream",
     "text": [
      "{'hindi': 90, 'english': 90, 'maths': 90}\n"
     ]
    }
   ],
   "source": [
    "print(anmol.marks)"
   ]
  },
  {
   "cell_type": "markdown",
   "metadata": {},
   "source": [
    "inheritance"
   ]
  },
  {
   "cell_type": "code",
   "execution_count": 22,
   "metadata": {},
   "outputs": [],
   "source": [
    "class Superlist(list):\n",
    "    def all_index(self,search):\n",
    "        idxs=[]\n",
    "        start_idx=0\n",
    "        for i in range(self.count(search)):\n",
    "            pos=self.index(search,start_idx)\n",
    "            idxs.append(pos)\n",
    "            start_idx=pos+1\n",
    "        return idxs"
   ]
  },
  {
   "cell_type": "code",
   "execution_count": 16,
   "metadata": {},
   "outputs": [
    {
     "name": "stdout",
     "output_type": "stream",
     "text": [
      "[1, 2, 3, 4, 5]\n",
      "[1, 2, 3, 4, 5, 20]\n"
     ]
    }
   ],
   "source": [
    "x=Superlist([1,2,3,4,5])\n",
    "print(x)\n",
    "x.append(20)\n",
    "print(x)"
   ]
  },
  {
   "cell_type": "code",
   "execution_count": 23,
   "metadata": {},
   "outputs": [
    {
     "data": {
      "text/plain": [
       "0"
      ]
     },
     "execution_count": 23,
     "metadata": {},
     "output_type": "execute_result"
    }
   ],
   "source": [
    "x.index(1)"
   ]
  },
  {
   "cell_type": "code",
   "execution_count": null,
   "metadata": {},
   "outputs": [],
   "source": []
  }
 ],
 "metadata": {
  "kernelspec": {
   "display_name": "base",
   "language": "python",
   "name": "python3"
  },
  "language_info": {
   "codemirror_mode": {
    "name": "ipython",
    "version": 3
   },
   "file_extension": ".py",
   "mimetype": "text/x-python",
   "name": "python",
   "nbconvert_exporter": "python",
   "pygments_lexer": "ipython3",
   "version": "3.10.10"
  },
  "orig_nbformat": 4
 },
 "nbformat": 4,
 "nbformat_minor": 2
}
