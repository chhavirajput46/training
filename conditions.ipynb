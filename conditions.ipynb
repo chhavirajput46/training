{
 "cells": [
  {
   "cell_type": "markdown",
   "metadata": {},
   "source": [
    "## conditions\n",
    "- if\n",
    "- if else\n",
    "- if elif else\n",
    "- match case\n"
   ]
  },
  {
   "cell_type": "code",
   "execution_count": 1,
   "metadata": {},
   "outputs": [],
   "source": [
    "x=10\n",
    "y=3"
   ]
  },
  {
   "cell_type": "code",
   "execution_count": 2,
   "metadata": {},
   "outputs": [
    {
     "name": "stdout",
     "output_type": "stream",
     "text": [
      "x is greater than y\n"
     ]
    }
   ],
   "source": [
    "if x>y:\n",
    "    print(\"x is greater than y\")"
   ]
  },
  {
   "cell_type": "code",
   "execution_count": 3,
   "metadata": {},
   "outputs": [
    {
     "name": "stdout",
     "output_type": "stream",
     "text": [
      "not greater\n"
     ]
    }
   ],
   "source": [
    "if x==y:\n",
    "    print('wow')\n",
    "print('not greater')"
   ]
  },
  {
   "cell_type": "code",
   "execution_count": 4,
   "metadata": {},
   "outputs": [
    {
     "name": "stdout",
     "output_type": "stream",
     "text": [
      "x is greter than y and x is greater than 8\n"
     ]
    }
   ],
   "source": [
    "if x>y and x>8:\n",
    "    print('x is greter than y and x is greater than 8')"
   ]
  },
  {
   "cell_type": "markdown",
   "metadata": {},
   "source": [
    "True values\n",
    "- true\n",
    "- non-zero numbers\n",
    "- non-empty strings\n",
    "\n",
    "False values\n",
    "- false\n",
    "- 0\n",
    "- 0.0\n",
    "- None\n",
    "- empty strings"
   ]
  },
  {
   "cell_type": "code",
   "execution_count": 5,
   "metadata": {},
   "outputs": [
    {
     "name": "stdout",
     "output_type": "stream",
     "text": [
      "you entered chhavi\n"
     ]
    }
   ],
   "source": [
    "name=input('enter a name:')\n",
    "if name:\n",
    "    print(f'you entered {name}')\n",
    "else:\n",
    "    print(\"you did not enter a name\")"
   ]
  },
  {
   "cell_type": "code",
   "execution_count": 6,
   "metadata": {},
   "outputs": [
    {
     "name": "stdout",
     "output_type": "stream",
     "text": [
      "number is even\n"
     ]
    }
   ],
   "source": [
    "n=int(input(\"enter a number\"))\n",
    "if n%2==0:\n",
    "    print(\"number is even\")\n",
    "else:\n",
    "    print(\"not even\")"
   ]
  },
  {
   "cell_type": "code",
   "execution_count": 7,
   "metadata": {},
   "outputs": [
    {
     "name": "stdout",
     "output_type": "stream",
     "text": [
      "oh no!\n"
     ]
    }
   ],
   "source": [
    "username=input('enter:')#nested if\n",
    "password=input('enter:')\n",
    "if username==\"admin\":\n",
    "    if password==\"123admin\":\n",
    "        print('welcome admin')\n",
    "    else:\n",
    "        print('invalid password')\n",
    "else:\n",
    "    print('oh no!')"
   ]
  },
  {
   "cell_type": "code",
   "execution_count": 8,
   "metadata": {},
   "outputs": [],
   "source": [
    "day=input('enter day')\n",
    "if day=='monday':\n",
    "    print('monday')\n",
    "elif day=='tuesday':\n",
    "    print('tuesday')\n",
    "elif day=='wednesday':\n",
    "    print('yay')"
   ]
  },
  {
   "cell_type": "markdown",
   "metadata": {},
   "source": [
    "## match-case\n"
   ]
  },
  {
   "cell_type": "code",
   "execution_count": 9,
   "metadata": {},
   "outputs": [],
   "source": [
    "day=input('enter day')\n",
    "match day:\n",
    "    case\"monday\":\n",
    "        print('time to work')\n",
    "    case\"tuesday\":\n",
    "        print('oh,time to work')\n",
    "    case\"wednesday\":\n",
    "        print('still, time to work')"
   ]
  },
  {
   "cell_type": "code",
   "execution_count": 10,
   "metadata": {},
   "outputs": [
    {
     "name": "stdout",
     "output_type": "stream",
     "text": [
      "virgo\n"
     ]
    }
   ],
   "source": [
    "m=input('enter month')\n",
    "match m:\n",
    "    case \"january\":\n",
    "        print('leo')\n",
    "    case \"febuary\":\n",
    "        print('scorpio')\n",
    "    case \"march\":\n",
    "        print('cancer')\n",
    "    case \"april\":\n",
    "        print('virgo')\n",
    "    case \"may\":\n",
    "        print('tauras')\n",
    "    case \"june\":\n",
    "        print('sagitarious')\n",
    "    case \"july\":\n",
    "        print('12')\n",
    "    case \"august\":\n",
    "        print('ya')\n",
    "    case \"september\":\n",
    "        print('oo')\n"
   ]
  },
  {
   "cell_type": "code",
   "execution_count": null,
   "metadata": {},
   "outputs": [],
   "source": []
  }
 ],
 "metadata": {
  "kernelspec": {
   "display_name": "base",
   "language": "python",
   "name": "python3"
  },
  "language_info": {
   "codemirror_mode": {
    "name": "ipython",
    "version": 3
   },
   "file_extension": ".py",
   "mimetype": "text/x-python",
   "name": "python",
   "nbconvert_exporter": "python",
   "pygments_lexer": "ipython3",
   "version": "3.10.10"
  },
  "orig_nbformat": 4
 },
 "nbformat": 4,
 "nbformat_minor": 2
}
