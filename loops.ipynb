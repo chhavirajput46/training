{
 "cells": [
  {
   "cell_type": "markdown",
   "metadata": {},
   "source": [
    "## for\n",
    "- for tem_var in iterable:\n",
    "- statement 1\n",
    "- ...\n",
    "- statement n\n",
    "- iterables are string,list,tuple,set,dict,generators,etc"
   ]
  },
  {
   "cell_type": "code",
   "execution_count": 8,
   "metadata": {},
   "outputs": [
    {
     "name": "stdout",
     "output_type": "stream",
     "text": [
      "1\n",
      "529\n",
      "25\n",
      "36\n",
      "9\n",
      "36\n",
      "441\n",
      "36\n",
      "36\n"
     ]
    }
   ],
   "source": [
    "nums=[1,23,5,6,3,6,21,6,6]\n",
    "for i in nums:\n",
    "    print(i**2)"
   ]
  },
  {
   "cell_type": "code",
   "execution_count": 9,
   "metadata": {},
   "outputs": [
    {
     "name": "stdout",
     "output_type": "stream",
     "text": [
      "36\n",
      "36\n",
      "36\n",
      "36\n",
      "36\n",
      "36\n",
      "36\n",
      "36\n",
      "36\n"
     ]
    }
   ],
   "source": [
    "nums=[1,23,5,6,3,6,21,6,6]\n",
    "for nums in nums:\n",
    "    print(i**2)"
   ]
  },
  {
   "cell_type": "code",
   "execution_count": 10,
   "metadata": {},
   "outputs": [
    {
     "name": "stdout",
     "output_type": "stream",
     "text": [
      "4\n",
      "25\n",
      "36\n"
     ]
    }
   ],
   "source": [
    "nums=[1,23,5,6,3,6,21,6,6]\n",
    "for i in [2,5,6]:\n",
    "    print(i**2)"
   ]
  },
  {
   "cell_type": "markdown",
   "metadata": {},
   "source": [
    "- enumerate\n",
    "- zip"
   ]
  },
  {
   "cell_type": "code",
   "execution_count": 13,
   "metadata": {},
   "outputs": [
    {
     "name": "stdout",
     "output_type": "stream",
     "text": [
      "john 0\n",
      "jane 1\n",
      "jack 2\n"
     ]
    }
   ],
   "source": [
    "name=['john','jane','jack']\n",
    "for idx,name in enumerate(name):#kisi ek iterable  ko lena or usiki index or value dono return krega\n",
    "    print(name,idx)"
   ]
  },
  {
   "cell_type": "code",
   "execution_count": 14,
   "metadata": {},
   "outputs": [
    {
     "name": "stdout",
     "output_type": "stream",
     "text": [
      "2\n",
      "8\n",
      "18\n",
      "32\n",
      "50\n"
     ]
    }
   ],
   "source": [
    "x=[2,4,6,8,10]\n",
    "y=[1,2,3,4,5]\n",
    "for i,j in zip(x,y):#multiple iterable  ko ek sath lena or ek sath chlana\n",
    "    print(i*j)"
   ]
  },
  {
   "cell_type": "code",
   "execution_count": 15,
   "metadata": {},
   "outputs": [
    {
     "name": "stdout",
     "output_type": "stream",
     "text": [
      "intrestellar        8.6\n",
      "gravity             7\n"
     ]
    }
   ],
   "source": [
    "movies=['intrestellar','gravity']\n",
    "rating=[8.6,7]\n",
    "for name,star in zip(movies,rating):\n",
    "    print(f'{name:20}{star}')"
   ]
  },
  {
   "cell_type": "markdown",
   "metadata": {},
   "source": [
    "break and continue"
   ]
  },
  {
   "cell_type": "code",
   "execution_count": 1,
   "metadata": {},
   "outputs": [
    {
     "name": "stdout",
     "output_type": "stream",
     "text": [
      "1 2 2 3 2 2 3 "
     ]
    }
   ],
   "source": [
    "x=[1,2,2,3,2,2,3,0,4,5,1,2,4,5]\n",
    "for i in x:\n",
    "    if i==0:\n",
    "        break\n",
    "    print(i,end=' ')"
   ]
  },
  {
   "cell_type": "code",
   "execution_count": 3,
   "metadata": {},
   "outputs": [
    {
     "name": "stdout",
     "output_type": "stream",
     "text": [
      "1 2 2 3 2 2 3 4 5 1 2 4 5 loop completed\n"
     ]
    }
   ],
   "source": [
    "x=[1,2,2,3,2,2,3,4,5,1,2,4,5]\n",
    "for i in x:\n",
    "    if i==0:\n",
    "        break\n",
    "    print(i,end=' ')\n",
    "else:\n",
    "    print('loop completed')"
   ]
  },
  {
   "cell_type": "code",
   "execution_count": 9,
   "metadata": {},
   "outputs": [
    {
     "name": "stdout",
     "output_type": "stream",
     "text": [
      "7%2=1\n",
      "7%3=1\n",
      "7%4=3\n",
      "7%5=2\n",
      "7%6=1\n",
      "prime\n"
     ]
    }
   ],
   "source": [
    "num=int(input('enter a number'))\n",
    "for i in range(2, num):\n",
    "    print(f'{num}%{i}={num%i}')\n",
    "    if num%i==0:\n",
    "        print('not prime')\n",
    "        break\n",
    "else:\n",
    "    print('prime')"
   ]
  },
  {
   "cell_type": "code",
   "execution_count": 10,
   "metadata": {},
   "outputs": [
    {
     "name": "stdout",
     "output_type": "stream",
     "text": [
      "1 2 2 3 5 1 23 3 "
     ]
    }
   ],
   "source": [
    "x=[1,2,2,3,None,5,1,None,23,3]\n",
    "for num in x:\n",
    "    if num is None:\n",
    "        continue\n",
    "    print(num,end=' ')"
   ]
  },
  {
   "cell_type": "code",
   "execution_count": 13,
   "metadata": {},
   "outputs": [
    {
     "name": "stdout",
     "output_type": "stream",
     "text": [
      "1 2 2 3 5 1 23 3 "
     ]
    }
   ],
   "source": [
    "for num in x:\n",
    "    if num!=None:#is not\n",
    "        print(num,end=' ')"
   ]
  },
  {
   "cell_type": "code",
   "execution_count": 19,
   "metadata": {},
   "outputs": [
    {
     "name": "stdout",
     "output_type": "stream",
     "text": [
      "16\n"
     ]
    }
   ],
   "source": [
    "s=[1,2,3,4,5,6,7,8]\n",
    "sm=[]\n",
    "for x in s:\n",
    "    if x%2!=0:\n",
    "        sm.append(x)\n",
    "    else:\n",
    "        continue\n",
    "        \n",
    "print(sum(sm))"
   ]
  },
  {
   "cell_type": "markdown",
   "metadata": {},
   "source": [
    "infinite loop"
   ]
  },
  {
   "cell_type": "code",
   "execution_count": 22,
   "metadata": {},
   "outputs": [
    {
     "name": "stdout",
     "output_type": "stream",
     "text": [
      "welcome admin\n"
     ]
    }
   ],
   "source": [
    "while True:\n",
    "    user=input('enter usrename:')\n",
    "    password=input('enter password:')\n",
    "    if user=='admin':\n",
    "        if password=='secret':\n",
    "            print('welcome admin')\n",
    "            break\n",
    "        else:\n",
    "            print('wrong password')\n",
    "    else:\n",
    "        print('wrong username')"
   ]
  },
  {
   "cell_type": "code",
   "execution_count": null,
   "metadata": {},
   "outputs": [],
   "source": []
  }
 ],
 "metadata": {
  "kernelspec": {
   "display_name": "base",
   "language": "python",
   "name": "python3"
  },
  "language_info": {
   "codemirror_mode": {
    "name": "ipython",
    "version": 3
   },
   "file_extension": ".py",
   "mimetype": "text/x-python",
   "name": "python",
   "nbconvert_exporter": "python",
   "pygments_lexer": "ipython3",
   "version": "3.10.10"
  },
  "orig_nbformat": 4
 },
 "nbformat": 4,
 "nbformat_minor": 2
}
